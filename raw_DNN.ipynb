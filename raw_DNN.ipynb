{
  "nbformat": 4,
  "nbformat_minor": 0,
  "metadata": {
    "colab": {
      "name": "raw_DNN.ipynb",
      "provenance": [],
      "collapsed_sections": [],
      "authorship_tag": "ABX9TyOEbSaySyfyG3om+FyzPacr",
      "include_colab_link": true
    },
    "kernelspec": {
      "name": "python3",
      "display_name": "Python 3"
    },
    "language_info": {
      "name": "python"
    }
  },
  "cells": [
    {
      "cell_type": "markdown",
      "metadata": {
        "id": "view-in-github",
        "colab_type": "text"
      },
      "source": [
        "<a href=\"https://colab.research.google.com/github/l4x3/l4x3/blob/main/raw_DNN.ipynb\" target=\"_parent\"><img src=\"https://colab.research.google.com/assets/colab-badge.svg\" alt=\"Open In Colab\"/></a>"
      ]
    },
    {
      "cell_type": "code",
      "metadata": {
        "id": "ajPaqVbt1vB3"
      },
      "source": [
        "import numpy as np"
      ],
      "execution_count": 1,
      "outputs": []
    },
    {
      "cell_type": "code",
      "metadata": {
        "id": "nkrJ_Hf55ui3"
      },
      "source": [
        "relu = (lambda x: np.maximum(0, x), lambda x: 1 if x > 0 else 0)\n",
        "sigmoid = (lambda x: 1 / (1 + np.e ** (-x)), lambda x: x * (1 - x))"
      ],
      "execution_count": 186,
      "outputs": []
    },
    {
      "cell_type": "code",
      "metadata": {
        "id": "8bzTfCqTg3hW"
      },
      "source": [
        "l2_cost = (lambda Yp, Yr: np.mean((Yp - Yr) ** 2), lambda Yp, Yr: (Yp - Yr)) # ojo cuidado"
      ],
      "execution_count": 3,
      "outputs": []
    },
    {
      "cell_type": "code",
      "metadata": {
        "id": "m0_3Aq8t0anU"
      },
      "source": [
        "class neural_layer:\n",
        "  def __init__(self, n_neur, n_conn, act_f):\n",
        "    self.w = np.random.rand(n_conn, n_neur) * 2 - 1\n",
        "    self.b = np.random.rand(1, n_neur) * 2 - 1\n",
        "    self.act_f = act_f\n",
        "  def get_z(self, X):\n",
        "    return X @ self.w + self.b\n",
        "  def get_a(self, X):\n",
        "    return self.act_f[0](X)"
      ],
      "execution_count": 94,
      "outputs": []
    },
    {
      "cell_type": "code",
      "metadata": {
        "id": "lKQT7mqz2rOU"
      },
      "source": [
        "topo = [\n",
        "         neural_layer(4, 2, relu),\n",
        "         neural_layer(8, 4, relu),\n",
        "         neural_layer(4, 8, relu),\n",
        "         neural_layer(2, 4, sigmoid)\n",
        "         ]\n",
        "\n",
        "class create_model:\n",
        "  def __init__(self, topo):\n",
        "    self.topo = topo\n",
        "  def forwardPass(self, X):\n",
        "    self.z = []\n",
        "    self.a = []\n",
        "    for i, layer in enumerate(self.topo):\n",
        "      # self.z.extend(self.z[-1] @ self.topo[i].w + self.topo[i].b)\n",
        "      # self.a.extend(self.topo[i].act_f[0](self.z[-1]))\n",
        "      if i == 0:\n",
        "        self.z.extend(self.topo[i].get_z(X))\n",
        "      else:\n",
        "        self.z.extend(self.topo[i].get_z(self.a[-1]))\n",
        "      self.a.extend([self.topo[i].get_a(self.z[-1])])\n",
        "  def backwardPass(self, Y):\n",
        "    deltas = []\n",
        "    for i in reversed(range(len(self.topo))):\n",
        "      if i == len(self.topo) - 1:\n",
        "        deltas.extend(self.f[1](self.a[i], Y) * [self.topo[i].act_f[1](n) for n in self.a[i]]) # ojo cuidado\n",
        "      else:\n",
        "        deltas.insert(0, deltas[0] @ _w.T * [self.topo[i].act_f[1](n) for n in self.a[i]]) # ojo cuidado\n",
        "      _w = self.topo[i].w\n",
        "      # gradient descent\n",
        "      self.topo[i].b = self.topo[i].b - np.mean(deltas[0], axis=0, keepdims=True) * self.lr\n",
        "      self.topo[i].w = self.topo[i].w - self.a[i].T @ deltas[0] * self.lr\n",
        "  def train(self, X, Y, f, lr=0.5):\n",
        "    self.lr = lr\n",
        "    self.f = f\n",
        "    for i in range(len(X)):\n",
        "      self.forwardPass(X[i])\n",
        "      self.backwardPass(Y[i])\n",
        "  def predict(self, X):\n",
        "    out = []\n",
        "    for i in X:\n",
        "      self.forwardPass(i)\n",
        "      out.append(self.a[-1])\n",
        "    return out"
      ],
      "execution_count": 232,
      "outputs": []
    },
    {
      "cell_type": "code",
      "metadata": {
        "id": "hDNnd8Ky-gO3"
      },
      "source": [
        "model = create_model(topo)\n",
        "\n",
        "model.train(np.random.rand(1, 2, 2), np.random.rand(1, 2, 2), l2_cost)\n",
        "\n",
        "X = np.random.rand(2, 2)\n",
        "print(X)\n",
        "model.predict(X)"
      ],
      "execution_count": null,
      "outputs": []
    },
    {
      "cell_type": "code",
      "metadata": {
        "id": "ltgyLrKqWUyC"
      },
      "source": [
        ""
      ],
      "execution_count": 186,
      "outputs": []
    }
  ]
}